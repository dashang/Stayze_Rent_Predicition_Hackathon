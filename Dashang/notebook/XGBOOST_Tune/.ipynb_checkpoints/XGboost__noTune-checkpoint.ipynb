{
 "cells": [
  {
   "cell_type": "code",
   "execution_count": 54,
   "metadata": {},
   "outputs": [],
   "source": [
    "import pandas as pd\n",
    "import numpy as np\n",
    "import matplotlib.pyplot as plt\n",
    "import seaborn as sns\n",
    "import datetime as dt\n",
    "import math\n",
    "\n",
    "\n",
    "from sklearn.tree            import DecisionTreeRegressor\n",
    "from sklearn.linear_model    import LinearRegression,Ridge,Lasso,RidgeCV, LassoCV, ElasticNetCV\n",
    "from sklearn.ensemble        import RandomForestRegressor\n",
    "from sklearn.model_selection import cross_val_score, KFold,train_test_split \n",
    "from sklearn.metrics         import r2_score,mean_squared_error\n",
    "from sklearn.ensemble        import RandomForestRegressor,  GradientBoostingRegressor \n",
    "from xgboost                 import XGBRegressor \n",
    "from sklearn.model_selection import GridSearchCV, RandomizedSearchCV\n",
    "\n",
    "\n"
   ]
  },
  {
   "cell_type": "code",
   "execution_count": 55,
   "metadata": {},
   "outputs": [],
   "source": [
    "train_df = pd.read_csv(\"C:\\\\Users\\\\Dashang\\\\Downloads\\\\Github\\\\Stayze_Rent_Predicition\\\\Stayze_Rent_Predicition_Hackathon\\\\Dashang\\\\data\\\\train_processedWithLog1pTarget.csv\")"
   ]
  },
  {
   "cell_type": "code",
   "execution_count": 56,
   "metadata": {},
   "outputs": [],
   "source": [
    "test_df = pd.read_csv(\"C:\\\\Users\\\\Dashang\\\\Downloads\\\\Github\\\\Stayze_Rent_Predicition\\\\Stayze_Rent_Predicition_Hackathon\\\\Dashang\\\\data\\\\test_processed.csv\")"
   ]
  },
  {
   "cell_type": "code",
   "execution_count": 57,
   "metadata": {},
   "outputs": [
    {
     "data": {
      "text/plain": [
       "latitude                             0\n",
       "longitude                            0\n",
       "minimum_nights                       0\n",
       "number_of_reviews                    0\n",
       "reviews_per_month                    0\n",
       "calculated_host_listings_count       0\n",
       "availability_365                     0\n",
       "log_(price+1)                        0\n",
       "neighbourhood_group_Bronx            0\n",
       "neighbourhood_group_Brooklyn         0\n",
       "neighbourhood_group_Manhattan        0\n",
       "neighbourhood_group_Queens           0\n",
       "neighbourhood_group_Staten Island    0\n",
       "room_type_Entire home/apt            0\n",
       "room_type_Private room               0\n",
       "room_type_Shared room                0\n",
       "dtype: int64"
      ]
     },
     "execution_count": 57,
     "metadata": {},
     "output_type": "execute_result"
    }
   ],
   "source": [
    "train_df.isnull().sum()"
   ]
  },
  {
   "cell_type": "code",
   "execution_count": 58,
   "metadata": {},
   "outputs": [],
   "source": [
    "train_df_with_dummies = train_df"
   ]
  },
  {
   "cell_type": "code",
   "execution_count": 59,
   "metadata": {},
   "outputs": [],
   "source": [
    "X=train_df_with_dummies.drop(['log_(price+1)'],axis=1)\n",
    "y=train_df_with_dummies['log_(price+1)']"
   ]
  },
  {
   "cell_type": "code",
   "execution_count": 60,
   "metadata": {},
   "outputs": [],
   "source": [
    "#y= target\n",
    "#x = nums\n",
    "X_train, X_test, y_train, y_test = train_test_split(X,y, test_size=0.30, random_state=24)"
   ]
  },
  {
   "cell_type": "raw",
   "metadata": {},
   "source": []
  },
  {
   "cell_type": "code",
   "execution_count": 61,
   "metadata": {},
   "outputs": [],
   "source": [
    "xgbmodel = XGBRegressor(learning_rate=0.1)"
   ]
  },
  {
   "cell_type": "code",
   "execution_count": 62,
   "metadata": {},
   "outputs": [],
   "source": [
    "xgbmodel = XGBRegressor(n_estimators=1000, learning_rate=0.1, early_stopping=5, max_depth=5, min_child_weight=1)"
   ]
  },
  {
   "cell_type": "code",
   "execution_count": 63,
   "metadata": {},
   "outputs": [
    {
     "name": "stdout",
     "output_type": "stream",
     "text": [
      "[22:59:50] WARNING: C:/Jenkins/workspace/xgboost-win64_release_0.90/src/objective/regression_obj.cu:152: reg:linear is now deprecated in favor of reg:squarederror.\n"
     ]
    },
    {
     "data": {
      "text/plain": [
       "XGBRegressor(base_score=0.5, booster='gbtree', colsample_bylevel=1,\n",
       "             colsample_bynode=1, colsample_bytree=1, early_stopping=5, gamma=0,\n",
       "             importance_type='gain', learning_rate=0.1, max_delta_step=0,\n",
       "             max_depth=5, min_child_weight=1, missing=None, n_estimators=1000,\n",
       "             n_jobs=1, nthread=None, objective='reg:linear', random_state=0,\n",
       "             reg_alpha=0, reg_lambda=1, scale_pos_weight=1, seed=None,\n",
       "             silent=None, subsample=1, verbosity=1)"
      ]
     },
     "execution_count": 63,
     "metadata": {},
     "output_type": "execute_result"
    }
   ],
   "source": [
    "xgbmodel.fit(X_train,y_train)"
   ]
  },
  {
   "cell_type": "code",
   "execution_count": 64,
   "metadata": {},
   "outputs": [
    {
     "name": "stdout",
     "output_type": "stream",
     "text": [
      "Train RMSE: 0.31996712411064177\n",
      "Test RMSE: 0.4578195741079882\n"
     ]
    }
   ],
   "source": [
    "y_pred = xgbmodel.predict(X_test)\n",
    "print('Train RMSE:',np.sqrt(mean_squared_error(y_train, xgbmodel.predict(X_train))))\n",
    "print('Test RMSE:',np.sqrt(mean_squared_error(y_test, xgbmodel.predict(X_test))))"
   ]
  },
  {
   "cell_type": "code",
   "execution_count": 65,
   "metadata": {},
   "outputs": [
    {
     "data": {
      "text/plain": [
       "(174.8375509255769, 151.17832623597684)"
      ]
     },
     "execution_count": 65,
     "metadata": {},
     "output_type": "execute_result"
    }
   ],
   "source": [
    "np.sqrt(mean_squared_error(y_train,np.exp(xgbmodel.predict(X_train))-1)), np.sqrt(mean_squared_error(y_test,np.exp(xgbmodel.predict(X_test))-1))"
   ]
  },
  {
   "cell_type": "markdown",
   "metadata": {},
   "source": [
    "## TEST DATA"
   ]
  },
  {
   "cell_type": "code",
   "execution_count": 42,
   "metadata": {},
   "outputs": [
    {
     "data": {
      "text/html": [
       "<div>\n",
       "<style scoped>\n",
       "    .dataframe tbody tr th:only-of-type {\n",
       "        vertical-align: middle;\n",
       "    }\n",
       "\n",
       "    .dataframe tbody tr th {\n",
       "        vertical-align: top;\n",
       "    }\n",
       "\n",
       "    .dataframe thead th {\n",
       "        text-align: right;\n",
       "    }\n",
       "</style>\n",
       "<table border=\"1\" class=\"dataframe\">\n",
       "  <thead>\n",
       "    <tr style=\"text-align: right;\">\n",
       "      <th></th>\n",
       "      <th>id</th>\n",
       "      <th>latitude</th>\n",
       "      <th>longitude</th>\n",
       "      <th>minimum_nights</th>\n",
       "      <th>number_of_reviews</th>\n",
       "      <th>reviews_per_month</th>\n",
       "      <th>calculated_host_listings_count</th>\n",
       "      <th>availability_365</th>\n",
       "      <th>neighbourhood_group_Bronx</th>\n",
       "      <th>neighbourhood_group_Brooklyn</th>\n",
       "      <th>neighbourhood_group_Manhattan</th>\n",
       "      <th>neighbourhood_group_Queens</th>\n",
       "      <th>neighbourhood_group_Staten Island</th>\n",
       "      <th>room_type_Entire home/apt</th>\n",
       "      <th>room_type_Private room</th>\n",
       "      <th>room_type_Shared room</th>\n",
       "    </tr>\n",
       "  </thead>\n",
       "  <tbody>\n",
       "    <tr>\n",
       "      <th>0</th>\n",
       "      <td>1525602</td>\n",
       "      <td>40.66751</td>\n",
       "      <td>-73.95867</td>\n",
       "      <td>2</td>\n",
       "      <td>121</td>\n",
       "      <td>1.70</td>\n",
       "      <td>1</td>\n",
       "      <td>39</td>\n",
       "      <td>0</td>\n",
       "      <td>1</td>\n",
       "      <td>0</td>\n",
       "      <td>0</td>\n",
       "      <td>0</td>\n",
       "      <td>1</td>\n",
       "      <td>0</td>\n",
       "      <td>0</td>\n",
       "    </tr>\n",
       "    <tr>\n",
       "      <th>1</th>\n",
       "      <td>30430185</td>\n",
       "      <td>40.75655</td>\n",
       "      <td>-73.99690</td>\n",
       "      <td>1</td>\n",
       "      <td>18</td>\n",
       "      <td>2.49</td>\n",
       "      <td>30</td>\n",
       "      <td>364</td>\n",
       "      <td>0</td>\n",
       "      <td>0</td>\n",
       "      <td>1</td>\n",
       "      <td>0</td>\n",
       "      <td>0</td>\n",
       "      <td>0</td>\n",
       "      <td>1</td>\n",
       "      <td>0</td>\n",
       "    </tr>\n",
       "    <tr>\n",
       "      <th>2</th>\n",
       "      <td>21354525</td>\n",
       "      <td>40.69252</td>\n",
       "      <td>-73.99121</td>\n",
       "      <td>1</td>\n",
       "      <td>87</td>\n",
       "      <td>4.29</td>\n",
       "      <td>1</td>\n",
       "      <td>108</td>\n",
       "      <td>0</td>\n",
       "      <td>1</td>\n",
       "      <td>0</td>\n",
       "      <td>0</td>\n",
       "      <td>0</td>\n",
       "      <td>0</td>\n",
       "      <td>1</td>\n",
       "      <td>0</td>\n",
       "    </tr>\n",
       "    <tr>\n",
       "      <th>3</th>\n",
       "      <td>35995074</td>\n",
       "      <td>40.77292</td>\n",
       "      <td>-73.90101</td>\n",
       "      <td>9</td>\n",
       "      <td>0</td>\n",
       "      <td>0.01</td>\n",
       "      <td>2</td>\n",
       "      <td>365</td>\n",
       "      <td>0</td>\n",
       "      <td>0</td>\n",
       "      <td>0</td>\n",
       "      <td>1</td>\n",
       "      <td>0</td>\n",
       "      <td>0</td>\n",
       "      <td>1</td>\n",
       "      <td>0</td>\n",
       "    </tr>\n",
       "    <tr>\n",
       "      <th>4</th>\n",
       "      <td>34392081</td>\n",
       "      <td>40.71863</td>\n",
       "      <td>-73.94980</td>\n",
       "      <td>1</td>\n",
       "      <td>28</td>\n",
       "      <td>14.00</td>\n",
       "      <td>2</td>\n",
       "      <td>20</td>\n",
       "      <td>0</td>\n",
       "      <td>1</td>\n",
       "      <td>0</td>\n",
       "      <td>0</td>\n",
       "      <td>0</td>\n",
       "      <td>0</td>\n",
       "      <td>1</td>\n",
       "      <td>0</td>\n",
       "    </tr>\n",
       "    <tr>\n",
       "      <th>...</th>\n",
       "      <td>...</td>\n",
       "      <td>...</td>\n",
       "      <td>...</td>\n",
       "      <td>...</td>\n",
       "      <td>...</td>\n",
       "      <td>...</td>\n",
       "      <td>...</td>\n",
       "      <td>...</td>\n",
       "      <td>...</td>\n",
       "      <td>...</td>\n",
       "      <td>...</td>\n",
       "      <td>...</td>\n",
       "      <td>...</td>\n",
       "      <td>...</td>\n",
       "      <td>...</td>\n",
       "      <td>...</td>\n",
       "    </tr>\n",
       "    <tr>\n",
       "      <th>14664</th>\n",
       "      <td>27730191</td>\n",
       "      <td>40.59446</td>\n",
       "      <td>-73.94289</td>\n",
       "      <td>2</td>\n",
       "      <td>1</td>\n",
       "      <td>0.59</td>\n",
       "      <td>1</td>\n",
       "      <td>36</td>\n",
       "      <td>0</td>\n",
       "      <td>1</td>\n",
       "      <td>0</td>\n",
       "      <td>0</td>\n",
       "      <td>0</td>\n",
       "      <td>1</td>\n",
       "      <td>0</td>\n",
       "      <td>0</td>\n",
       "    </tr>\n",
       "    <tr>\n",
       "      <th>14665</th>\n",
       "      <td>29676417</td>\n",
       "      <td>40.74319</td>\n",
       "      <td>-73.98074</td>\n",
       "      <td>2</td>\n",
       "      <td>1</td>\n",
       "      <td>0.16</td>\n",
       "      <td>1</td>\n",
       "      <td>365</td>\n",
       "      <td>0</td>\n",
       "      <td>0</td>\n",
       "      <td>1</td>\n",
       "      <td>0</td>\n",
       "      <td>0</td>\n",
       "      <td>0</td>\n",
       "      <td>0</td>\n",
       "      <td>1</td>\n",
       "    </tr>\n",
       "    <tr>\n",
       "      <th>14666</th>\n",
       "      <td>1813829</td>\n",
       "      <td>40.82519</td>\n",
       "      <td>-73.94530</td>\n",
       "      <td>1</td>\n",
       "      <td>93</td>\n",
       "      <td>1.34</td>\n",
       "      <td>3</td>\n",
       "      <td>358</td>\n",
       "      <td>0</td>\n",
       "      <td>0</td>\n",
       "      <td>1</td>\n",
       "      <td>0</td>\n",
       "      <td>0</td>\n",
       "      <td>0</td>\n",
       "      <td>1</td>\n",
       "      <td>0</td>\n",
       "    </tr>\n",
       "    <tr>\n",
       "      <th>14667</th>\n",
       "      <td>25017403</td>\n",
       "      <td>40.72238</td>\n",
       "      <td>-73.99466</td>\n",
       "      <td>1</td>\n",
       "      <td>15</td>\n",
       "      <td>1.12</td>\n",
       "      <td>8</td>\n",
       "      <td>34</td>\n",
       "      <td>0</td>\n",
       "      <td>0</td>\n",
       "      <td>1</td>\n",
       "      <td>0</td>\n",
       "      <td>0</td>\n",
       "      <td>1</td>\n",
       "      <td>0</td>\n",
       "      <td>0</td>\n",
       "    </tr>\n",
       "    <tr>\n",
       "      <th>14668</th>\n",
       "      <td>19057073</td>\n",
       "      <td>40.68932</td>\n",
       "      <td>-73.94947</td>\n",
       "      <td>5</td>\n",
       "      <td>23</td>\n",
       "      <td>0.95</td>\n",
       "      <td>1</td>\n",
       "      <td>1</td>\n",
       "      <td>0</td>\n",
       "      <td>1</td>\n",
       "      <td>0</td>\n",
       "      <td>0</td>\n",
       "      <td>0</td>\n",
       "      <td>1</td>\n",
       "      <td>0</td>\n",
       "      <td>0</td>\n",
       "    </tr>\n",
       "  </tbody>\n",
       "</table>\n",
       "<p>14669 rows × 16 columns</p>\n",
       "</div>"
      ],
      "text/plain": [
       "             id  latitude  longitude  minimum_nights  number_of_reviews  \\\n",
       "0       1525602  40.66751  -73.95867               2                121   \n",
       "1      30430185  40.75655  -73.99690               1                 18   \n",
       "2      21354525  40.69252  -73.99121               1                 87   \n",
       "3      35995074  40.77292  -73.90101               9                  0   \n",
       "4      34392081  40.71863  -73.94980               1                 28   \n",
       "...         ...       ...        ...             ...                ...   \n",
       "14664  27730191  40.59446  -73.94289               2                  1   \n",
       "14665  29676417  40.74319  -73.98074               2                  1   \n",
       "14666   1813829  40.82519  -73.94530               1                 93   \n",
       "14667  25017403  40.72238  -73.99466               1                 15   \n",
       "14668  19057073  40.68932  -73.94947               5                 23   \n",
       "\n",
       "       reviews_per_month  calculated_host_listings_count  availability_365  \\\n",
       "0                   1.70                               1                39   \n",
       "1                   2.49                              30               364   \n",
       "2                   4.29                               1               108   \n",
       "3                   0.01                               2               365   \n",
       "4                  14.00                               2                20   \n",
       "...                  ...                             ...               ...   \n",
       "14664               0.59                               1                36   \n",
       "14665               0.16                               1               365   \n",
       "14666               1.34                               3               358   \n",
       "14667               1.12                               8                34   \n",
       "14668               0.95                               1                 1   \n",
       "\n",
       "       neighbourhood_group_Bronx  neighbourhood_group_Brooklyn  \\\n",
       "0                              0                             1   \n",
       "1                              0                             0   \n",
       "2                              0                             1   \n",
       "3                              0                             0   \n",
       "4                              0                             1   \n",
       "...                          ...                           ...   \n",
       "14664                          0                             1   \n",
       "14665                          0                             0   \n",
       "14666                          0                             0   \n",
       "14667                          0                             0   \n",
       "14668                          0                             1   \n",
       "\n",
       "       neighbourhood_group_Manhattan  neighbourhood_group_Queens  \\\n",
       "0                                  0                           0   \n",
       "1                                  1                           0   \n",
       "2                                  0                           0   \n",
       "3                                  0                           1   \n",
       "4                                  0                           0   \n",
       "...                              ...                         ...   \n",
       "14664                              0                           0   \n",
       "14665                              1                           0   \n",
       "14666                              1                           0   \n",
       "14667                              1                           0   \n",
       "14668                              0                           0   \n",
       "\n",
       "       neighbourhood_group_Staten Island  room_type_Entire home/apt  \\\n",
       "0                                      0                          1   \n",
       "1                                      0                          0   \n",
       "2                                      0                          0   \n",
       "3                                      0                          0   \n",
       "4                                      0                          0   \n",
       "...                                  ...                        ...   \n",
       "14664                                  0                          1   \n",
       "14665                                  0                          0   \n",
       "14666                                  0                          0   \n",
       "14667                                  0                          1   \n",
       "14668                                  0                          1   \n",
       "\n",
       "       room_type_Private room  room_type_Shared room  \n",
       "0                           0                      0  \n",
       "1                           1                      0  \n",
       "2                           1                      0  \n",
       "3                           1                      0  \n",
       "4                           1                      0  \n",
       "...                       ...                    ...  \n",
       "14664                       0                      0  \n",
       "14665                       0                      1  \n",
       "14666                       1                      0  \n",
       "14667                       0                      0  \n",
       "14668                       0                      0  \n",
       "\n",
       "[14669 rows x 16 columns]"
      ]
     },
     "execution_count": 42,
     "metadata": {},
     "output_type": "execute_result"
    }
   ],
   "source": [
    "test_df"
   ]
  },
  {
   "cell_type": "code",
   "execution_count": 43,
   "metadata": {},
   "outputs": [],
   "source": [
    "test_id_col = test_df['id']"
   ]
  },
  {
   "cell_type": "code",
   "execution_count": 44,
   "metadata": {},
   "outputs": [
    {
     "data": {
      "text/plain": [
       "id                                   0\n",
       "latitude                             0\n",
       "longitude                            0\n",
       "minimum_nights                       0\n",
       "number_of_reviews                    0\n",
       "reviews_per_month                    0\n",
       "calculated_host_listings_count       0\n",
       "availability_365                     0\n",
       "neighbourhood_group_Bronx            0\n",
       "neighbourhood_group_Brooklyn         0\n",
       "neighbourhood_group_Manhattan        0\n",
       "neighbourhood_group_Queens           0\n",
       "neighbourhood_group_Staten Island    0\n",
       "room_type_Entire home/apt            0\n",
       "room_type_Private room               0\n",
       "room_type_Shared room                0\n",
       "dtype: int64"
      ]
     },
     "execution_count": 44,
     "metadata": {},
     "output_type": "execute_result"
    }
   ],
   "source": [
    "test_df.isnull().sum()"
   ]
  },
  {
   "cell_type": "code",
   "execution_count": 45,
   "metadata": {},
   "outputs": [],
   "source": [
    "test_df_with_dummies = test_df"
   ]
  },
  {
   "cell_type": "code",
   "execution_count": 46,
   "metadata": {},
   "outputs": [],
   "source": [
    "test_df_with_dummies = test_df_with_dummies.drop(['id'],axis=1)"
   ]
  },
  {
   "cell_type": "code",
   "execution_count": 47,
   "metadata": {},
   "outputs": [
    {
     "data": {
      "text/plain": [
       "Index(['latitude', 'longitude', 'minimum_nights', 'number_of_reviews',\n",
       "       'reviews_per_month', 'calculated_host_listings_count',\n",
       "       'availability_365', 'neighbourhood_group_Bronx',\n",
       "       'neighbourhood_group_Brooklyn', 'neighbourhood_group_Manhattan',\n",
       "       'neighbourhood_group_Queens', 'neighbourhood_group_Staten Island',\n",
       "       'room_type_Entire home/apt', 'room_type_Private room',\n",
       "       'room_type_Shared room'],\n",
       "      dtype='object')"
      ]
     },
     "execution_count": 47,
     "metadata": {},
     "output_type": "execute_result"
    }
   ],
   "source": [
    "test_df_with_dummies.columns"
   ]
  },
  {
   "cell_type": "code",
   "execution_count": 48,
   "metadata": {},
   "outputs": [],
   "source": [
    "test_df_with_dummies['price']= xgbmodel.predict(test_df_with_dummies)"
   ]
  },
  {
   "cell_type": "code",
   "execution_count": 49,
   "metadata": {},
   "outputs": [],
   "source": [
    "test_df_with_dummies['price'] = np.exp(test_df_with_dummies['price'])-1"
   ]
  },
  {
   "cell_type": "code",
   "execution_count": 50,
   "metadata": {},
   "outputs": [],
   "source": [
    "submissions_xgbmodel = pd.concat([test_id_col, test_df_with_dummies['price']], axis=1) \n"
   ]
  },
  {
   "cell_type": "code",
   "execution_count": 51,
   "metadata": {},
   "outputs": [],
   "source": [
    "submissions_xgbmodel.to_csv('submission_xgbmodel.csv', index=False) "
   ]
  },
  {
   "cell_type": "code",
   "execution_count": 52,
   "metadata": {},
   "outputs": [
    {
     "data": {
      "text/html": [
       "<div>\n",
       "<style scoped>\n",
       "    .dataframe tbody tr th:only-of-type {\n",
       "        vertical-align: middle;\n",
       "    }\n",
       "\n",
       "    .dataframe tbody tr th {\n",
       "        vertical-align: top;\n",
       "    }\n",
       "\n",
       "    .dataframe thead th {\n",
       "        text-align: right;\n",
       "    }\n",
       "</style>\n",
       "<table border=\"1\" class=\"dataframe\">\n",
       "  <thead>\n",
       "    <tr style=\"text-align: right;\">\n",
       "      <th></th>\n",
       "      <th>id</th>\n",
       "      <th>price</th>\n",
       "    </tr>\n",
       "  </thead>\n",
       "  <tbody>\n",
       "    <tr>\n",
       "      <th>0</th>\n",
       "      <td>1525602</td>\n",
       "      <td>135.168137</td>\n",
       "    </tr>\n",
       "    <tr>\n",
       "      <th>1</th>\n",
       "      <td>30430185</td>\n",
       "      <td>214.009506</td>\n",
       "    </tr>\n",
       "    <tr>\n",
       "      <th>2</th>\n",
       "      <td>21354525</td>\n",
       "      <td>78.229507</td>\n",
       "    </tr>\n",
       "    <tr>\n",
       "      <th>3</th>\n",
       "      <td>35995074</td>\n",
       "      <td>64.889915</td>\n",
       "    </tr>\n",
       "    <tr>\n",
       "      <th>4</th>\n",
       "      <td>34392081</td>\n",
       "      <td>119.055405</td>\n",
       "    </tr>\n",
       "    <tr>\n",
       "      <th>...</th>\n",
       "      <td>...</td>\n",
       "      <td>...</td>\n",
       "    </tr>\n",
       "    <tr>\n",
       "      <th>14664</th>\n",
       "      <td>27730191</td>\n",
       "      <td>138.149216</td>\n",
       "    </tr>\n",
       "    <tr>\n",
       "      <th>14665</th>\n",
       "      <td>29676417</td>\n",
       "      <td>124.719116</td>\n",
       "    </tr>\n",
       "    <tr>\n",
       "      <th>14666</th>\n",
       "      <td>1813829</td>\n",
       "      <td>64.709190</td>\n",
       "    </tr>\n",
       "    <tr>\n",
       "      <th>14667</th>\n",
       "      <td>25017403</td>\n",
       "      <td>326.044525</td>\n",
       "    </tr>\n",
       "    <tr>\n",
       "      <th>14668</th>\n",
       "      <td>19057073</td>\n",
       "      <td>114.964264</td>\n",
       "    </tr>\n",
       "  </tbody>\n",
       "</table>\n",
       "<p>14669 rows × 2 columns</p>\n",
       "</div>"
      ],
      "text/plain": [
       "             id       price\n",
       "0       1525602  135.168137\n",
       "1      30430185  214.009506\n",
       "2      21354525   78.229507\n",
       "3      35995074   64.889915\n",
       "4      34392081  119.055405\n",
       "...         ...         ...\n",
       "14664  27730191  138.149216\n",
       "14665  29676417  124.719116\n",
       "14666   1813829   64.709190\n",
       "14667  25017403  326.044525\n",
       "14668  19057073  114.964264\n",
       "\n",
       "[14669 rows x 2 columns]"
      ]
     },
     "execution_count": 52,
     "metadata": {},
     "output_type": "execute_result"
    }
   ],
   "source": [
    "submissions_xgbmodel"
   ]
  },
  {
   "cell_type": "code",
   "execution_count": 53,
   "metadata": {},
   "outputs": [
    {
     "data": {
      "text/plain": [
       "id       0\n",
       "price    0\n",
       "dtype: int64"
      ]
     },
     "execution_count": 53,
     "metadata": {},
     "output_type": "execute_result"
    }
   ],
   "source": [
    "submissions_xgbmodel.isnull().sum()"
   ]
  },
  {
   "cell_type": "code",
   "execution_count": null,
   "metadata": {},
   "outputs": [],
   "source": []
  }
 ],
 "metadata": {
  "kernelspec": {
   "display_name": "Python 3",
   "language": "python",
   "name": "python3"
  },
  "language_info": {
   "codemirror_mode": {
    "name": "ipython",
    "version": 3
   },
   "file_extension": ".py",
   "mimetype": "text/x-python",
   "name": "python",
   "nbconvert_exporter": "python",
   "pygments_lexer": "ipython3",
   "version": "3.7.4"
  }
 },
 "nbformat": 4,
 "nbformat_minor": 4
}
